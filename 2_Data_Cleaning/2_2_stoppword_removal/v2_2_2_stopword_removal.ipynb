{
 "cells": [
  {
   "cell_type": "markdown",
   "metadata": {},
   "source": [
    "Stoppwortanalyse: WElche zusätzlichen Stoppwörter entfernen?\n",
    "2 Durchläufe: einmal mit Synonymentfernung davor, einmal ohne\n"
   ]
  },
  {
   "cell_type": "code",
   "execution_count": 4,
   "metadata": {},
   "outputs": [
    {
     "name": "stderr",
     "output_type": "stream",
     "text": [
      "Verarbeitung der Reden: 100%|██████████| 34428/34428 [25:36<00:00, 22.40it/s] \n"
     ]
    },
    {
     "name": "stdout",
     "output_type": "stream",
     "text": [
      "Normalisierte Daten gespeichert unter: v2_2_stoppword_removal_w_synonym_replacement.csv\n"
     ]
    }
   ],
   "source": [
    "import pandas as pd\n",
    "import spacy\n",
    "import nltk\n",
    "from tqdm import tqdm\n",
    "\n",
    "nlp = spacy.load(\"de_core_news_sm\")\n",
    "\n",
    "# Datei einlesen\n",
    "file_path = \"v2_1_separat_speeches_with_synonym_replacement.csv\"\n",
    "df = pd.read_csv(file_path)\n",
    "\n",
    "normalized_texts = []\n",
    "for text in tqdm(df['text'], desc=\"Verarbeitung der Reden\"):\n",
    "    doc = nlp(text)\n",
    "    normalized_tokens = [\n",
    "        token.lemma_ if token.is_alpha or token.like_num else \"\"  # Behalte Buchstaben und Zahlen, entferne andere Zeichen\n",
    "        for token in doc \n",
    "        if not token.is_stop  # Entfernt nur Stoppwörter (häufige Wörter ohne Bedeutung wie \"und\", \"oder\")\n",
    "        and token.pos_ not in ['DET', 'CCONJ', 'PRON', 'PART', 'ADP', 'AUX', 'INTJ', 'SYM']  # Entfernt alle außer Adverbien und Zahlen\n",
    "                        # DET: Artikel (z. B. \"der\", \"die\")\n",
    "                        # CCONJ: Konjunktionen (z. B. \"und\", \"aber\")\n",
    "                        # PRON: Pronomen (z. B. \"ich\", \"sie\")\n",
    "                        # PART: Partikel (z. B. \"zu\", \"nicht\")\n",
    "                        # ADP: Präpositionen (z. B. \"in\", \"auf\")\n",
    "                        # AUX: Hilfsverben (z. B. \"sein\", \"haben\")\n",
    "                        # INTJ: Interjektionen (z. B. \"oh\", \"ach\")\n",
    "                        # SYM: Symbole (z. B. mathematische oder andere Zeichen)\n",
    "    ]\n",
    "    normalized_text = \" \".join(normalized_tokens).strip()  # Entferne überflüssige Leerzeichen\n",
    "    normalized_texts.append(normalized_text)\n",
    "\n",
    "# Die 'text'-Spalte mit den normalisierten Texten überschreiben\n",
    "df['text'] = normalized_texts\n",
    "\n",
    "\n",
    "output_path = \"v2_2_stoppword_removal_w_synonym_replacement.csv\"\n",
    "df.to_csv(output_path, index=False)\n",
    "print(f\"Normalisierte Daten gespeichert unter: {output_path}\")"
   ]
  },
  {
   "cell_type": "markdown",
   "metadata": {},
   "source": [
    "Results after Stoppwordsremoval after Synonym Replacements:\n",
    "\n",
    "Total Words (Original): 7427891\n",
    "Total Words (Cleaned): 7591942\n",
    "Unique Words (Original): 219655\n",
    "Unique Words (Cleaned): 228105"
   ]
  }
 ],
 "metadata": {
  "kernelspec": {
   "display_name": "ds_ai",
   "language": "python",
   "name": "python3"
  },
  "language_info": {
   "codemirror_mode": {
    "name": "ipython",
    "version": 3
   },
   "file_extension": ".py",
   "mimetype": "text/x-python",
   "name": "python",
   "nbconvert_exporter": "python",
   "pygments_lexer": "ipython3",
   "version": "3.11.10"
  }
 },
 "nbformat": 4,
 "nbformat_minor": 2
}
